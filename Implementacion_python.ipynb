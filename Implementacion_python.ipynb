{
 "cells": [
  {
   "cell_type": "code",
   "execution_count": 1,
   "metadata": {},
   "outputs": [],
   "source": [
    "import hmac\n",
    "import hashlib\n",
    "import struct\n",
    "import time\n",
    "import unittest\n",
    "import qrcode\n",
    "import base64\n",
    "import os\n",
    "import secrets"
   ]
  },
  {
   "cell_type": "markdown",
   "metadata": {},
   "source": [
    "**Implementación en Python de OATH HOTP + TOTP**"
   ]
  },
  {
   "cell_type": "raw",
   "metadata": {},
   "source": [
    "Basado en:\n",
    "http://tools.ietf.org/html/rfc4226 \n",
    "http://tools.ietf.org/html/rfc6238"
   ]
  },
  {
   "cell_type": "markdown",
   "metadata": {},
   "source": [
    "**Links usados:**"
   ]
  },
  {
   "cell_type": "markdown",
   "metadata": {},
   "source": [
    "https://github.com/gingerlime/hotpie/blob/master/hotpie.py <br>\n",
    "https://github.com/bdauvergne/python-oath/tree/master/oath <br>\n",
    "https://sahandsaba.com/two-step-verification-using-python-pyotp-qrcode-flask-and-heroku.html <br>\n",
    "https://github.com/google/google-authenticator/wiki/Key-Uri-Format <br>\n",
    "https://docs.openstack.org/keystone/pike/advanced-topics/auth-totp.html <br>\n",
    "https://github.com/pyauth/pyotp/blob/master/src/pyotp/otp.py"
   ]
  },
  {
   "cell_type": "markdown",
   "metadata": {},
   "source": [
    "**Métodos**"
   ]
  },
  {
   "cell_type": "code",
   "execution_count": 2,
   "metadata": {},
   "outputs": [],
   "source": [
    "def Truncate(hmac_digest):\n",
    "    \"\"\"\n",
    "    Truncate representa la función que convierte un valor HMAC\n",
    "    en un valor HOTP, como está definido en la Sección 5.3.\n",
    "    http://tools.ietf.org/html/rfc4226#section-5.3\n",
    "    \"\"\"\n",
    "    offset = int(hmac_digest[-1], 16)\n",
    "    binary = int(hmac_digest[(offset * 2):((offset * 2) + 8)], 16) & 0x7fffffff\n",
    "    return str(binary)"
   ]
  },
  {
   "cell_type": "code",
   "execution_count": 33,
   "metadata": {},
   "outputs": [],
   "source": [
    "def HOTP(K, C, digits=6, digestmod=hashlib.sha1):\n",
    "    \"\"\"\n",
    "    HOTP acepta la clave secreta K y el contador C\n",
    "    opcionalmente se puede ajustar los digitos \n",
    "    \n",
    "    Retorna el código entero OATH con longitud {digits} \n",
    "    \"\"\"\n",
    "    C_bytes = struct.pack(b\"!Q\", C) # Convierto el contador que es un entero a bytes\n",
    "    hmac_digest = hmac.new(key=K, msg=C_bytes,\n",
    "                           digestmod=digestmod).hexdigest()\n",
    "    return Truncate(hmac_digest)[-digits:] # ak resultado devuelto por Truncate() lo trunco a la cantidad de digitos dado por digits.  "
   ]
  },
  {
   "cell_type": "code",
   "execution_count": 4,
   "metadata": {},
   "outputs": [],
   "source": [
    "def TOTP(K, digits=6, window=30, clock=None, digestmod=hashlib.sha1):\n",
    "    \"\"\"\n",
    "    TOTP es una variante de HOTP basada en el tiempo.\n",
    "    Acepta solamente la clave secreta K, ya que el contador es derivado del timestamp actual\n",
    "    opcionalmente se puede ajustar los dígitos\n",
    "    opcionalmente se puede ajustar la ventana de tiempo\n",
    "\n",
    "    retorna el código entero OATH con longitud {digits} \n",
    "    \"\"\"\n",
    "    if clock is None:\n",
    "        clock = time.time()\n",
    "    C = int(clock / window) # {T0 = 0}\n",
    "    return HOTP(K, C, digits=digits, digestmod=digestmod)"
   ]
  },
  {
   "cell_type": "markdown",
   "metadata": {},
   "source": [
    "**Claves Secretas**"
   ]
  },
  {
   "cell_type": "code",
   "execution_count": 6,
   "metadata": {},
   "outputs": [],
   "source": [
    "key_string = b'12345678901234567890' # 20 bytes\n",
    "key_string_256 = b'12345678901234567890123456789012' # 32 bytes\n",
    "key_string_512 = b'123456789012345678901234567890' + \\\n",
    "                      b'1234567890123456789012345678901234' # 64 bytes"
   ]
  },
  {
   "cell_type": "markdown",
   "metadata": {},
   "source": [
    "**Probando HOTP**"
   ]
  },
  {
   "cell_type": "code",
   "execution_count": 2,
   "metadata": {},
   "outputs": [],
   "source": [
    "hotp_result_vector = ['755224', '287082', '359152',\n",
    "                      '969429', '338314', '254676',\n",
    "                      '287922', '162583', '399871',\n",
    "                      '520489','123456']"
   ]
  },
  {
   "cell_type": "code",
   "execution_count": 34,
   "metadata": {},
   "outputs": [
    {
     "name": "stdout",
     "output_type": "stream",
     "text": [
      "755224\n",
      "755224\n",
      "=====\n",
      "287082\n",
      "287082\n",
      "=====\n",
      "359152\n",
      "359152\n",
      "=====\n",
      "969429\n",
      "969429\n",
      "=====\n",
      "338314\n",
      "338314\n",
      "=====\n",
      "254676\n",
      "254676\n",
      "=====\n",
      "287922\n",
      "287922\n",
      "=====\n",
      "162583\n",
      "162583\n",
      "=====\n",
      "399871\n",
      "399871\n",
      "=====\n",
      "520489\n",
      "520489\n",
      "=====\n",
      "403154\n",
      "123456\n",
      "=====\n"
     ]
    }
   ],
   "source": [
    "for i, r in enumerate(hotp_result_vector):\n",
    "    print(HOTP(key_string, i))\n",
    "    print(r)\n",
    "    print(\"=====\")"
   ]
  },
  {
   "cell_type": "markdown",
   "metadata": {},
   "source": [
    "**Probando TOTP**"
   ]
  },
  {
   "cell_type": "code",
   "execution_count": 30,
   "metadata": {},
   "outputs": [],
   "source": [
    "totp_result_vector = [\n",
    "            (key_string, 59, '94287082', hashlib.sha1),\n",
    "            (key_string_256, 59, '46119246', hashlib.sha256),\n",
    "            (key_string_512, 59, '90693936', hashlib.sha512),\n",
    "            (key_string, 1111111109, '07081804', hashlib.sha1),\n",
    "            (key_string_256, 1111111109, '68084774', hashlib.sha256),\n",
    "            (key_string_512, 1111111109, '25091201', hashlib.sha512),\n",
    "            (key_string, 1111111111, '14050471', hashlib.sha1),\n",
    "            (key_string_256, 1111111111, '67062674', hashlib.sha256),\n",
    "            (key_string_512, 1111111111, '99943326', hashlib.sha512),\n",
    "            (key_string, 1234567890, '89005924', hashlib.sha1),\n",
    "            (key_string_256, 1234567890, '91819424', hashlib.sha256),\n",
    "            (key_string_512, 1234567890, '93441116', hashlib.sha512),\n",
    "            (key_string, 2000000000, '69279037', hashlib.sha1),\n",
    "            (key_string_256, 2000000000, '90698825', hashlib.sha256),\n",
    "            (key_string_512, 2000000000, '38618901', hashlib.sha512),\n",
    "            (key_string, 20000000000, '65353130', hashlib.sha1),\n",
    "            (key_string_256, 20000000000, '77737706', hashlib.sha256),\n",
    "            (key_string_512, 20000000000, '47863826', hashlib.sha512),\n",
    "            (key_string_512, 3000000001, '47863826', hashlib.sha512),\n",
    "        ]"
   ]
  },
  {
   "cell_type": "code",
   "execution_count": 31,
   "metadata": {},
   "outputs": [
    {
     "name": "stdout",
     "output_type": "stream",
     "text": [
      "94287082\n",
      "94287082\n",
      "=======\n",
      "46119246\n",
      "46119246\n",
      "=======\n",
      "90693936\n",
      "90693936\n",
      "=======\n",
      "07081804\n",
      "07081804\n",
      "=======\n",
      "68084774\n",
      "68084774\n",
      "=======\n",
      "25091201\n",
      "25091201\n",
      "=======\n",
      "14050471\n",
      "14050471\n",
      "=======\n",
      "67062674\n",
      "67062674\n",
      "=======\n",
      "99943326\n",
      "99943326\n",
      "=======\n",
      "89005924\n",
      "89005924\n",
      "=======\n",
      "91819424\n",
      "91819424\n",
      "=======\n",
      "93441116\n",
      "93441116\n",
      "=======\n",
      "69279037\n",
      "69279037\n",
      "=======\n",
      "90698825\n",
      "90698825\n",
      "=======\n",
      "38618901\n",
      "38618901\n",
      "=======\n",
      "65353130\n",
      "65353130\n",
      "=======\n",
      "77737706\n",
      "77737706\n",
      "=======\n",
      "47863826\n",
      "47863826\n",
      "=======\n",
      "86564217\n",
      "47863826\n",
      "=======\n"
     ]
    }
   ],
   "source": [
    "for (key, clock, result, digestmod) in totp_result_vector:\n",
    "    print(TOTP(key,digits=8,window=30,clock=clock,digestmod=digestmod))\n",
    "    print(result)\n",
    "    print(\"=======\")"
   ]
  },
  {
   "cell_type": "markdown",
   "metadata": {},
   "source": [
    "**Configuración de parámetros TOTP**"
   ]
  },
  {
   "cell_type": "code",
   "execution_count": 43,
   "metadata": {},
   "outputs": [],
   "source": [
    "uri_totp = 'otpauth://{0}/{1}?{2}&{3}&{4}&{5}&{6}'"
   ]
  },
  {
   "cell_type": "code",
   "execution_count": 47,
   "metadata": {},
   "outputs": [
    {
     "data": {
      "text/plain": [
       "'otpauth://totp/alice@google.com?secret=JBSWY3DPEHPK3PXP&issuer=kari&algorithm=SHA1&digits=8&period=60'"
      ]
     },
     "execution_count": 47,
     "metadata": {},
     "output_type": "execute_result"
    }
   ],
   "source": [
    "uri_totp = uri_totp.format('totp', 'alice@google.com', 'secret=JBSWY3DPEHPK3PXP', 'issuer=alice', 'algorithm=SHA1', 'digits=8', 'period=60')\n",
    "uri_totp"
   ]
  },
  {
   "cell_type": "raw",
   "metadata": {},
   "source": [
    "Escanear con alguna aplicación de autenticación el siguiente código:"
   ]
  },
  {
   "cell_type": "code",
   "execution_count": 48,
   "metadata": {},
   "outputs": [
    {
     "data": {
      "image/png": "[encoded data removed]",
      "text/plain": [
       "<qrcode.image.pil.PilImage at 0x2a79f50>"
      ]
     },
     "execution_count": 48,
     "metadata": {},
     "output_type": "execute_result"
    }
   ],
   "source": [
    "img = qrcode.make(uri_totp)\n",
    "img"
   ]
  },
  {
   "cell_type": "markdown",
   "metadata": {},
   "source": [
    "**Configuración de parámetros HOTP**"
   ]
  },
  {
   "cell_type": "code",
   "execution_count": 2,
   "metadata": {},
   "outputs": [],
   "source": [
    "uri_hotp = 'otpauth://{0}/{1}?{2}&{3}&{4}&{5}&{6}'"
   ]
  },
  {
   "cell_type": "code",
   "execution_count": 3,
   "metadata": {},
   "outputs": [
    {
     "data": {
      "text/plain": [
       "'otpauth://hotp/lauren@google.com?secret=BBSWY3DPEHPK3PXP&issuer=lauren&algorithm=SHA1&digits=6&counter=10'"
      ]
     },
     "execution_count": 3,
     "metadata": {},
     "output_type": "execute_result"
    }
   ],
   "source": [
    "uri_hotp = uri_hotp.format('hotp', 'lauren@google.com', 'secret=BBSWY3DPEHPK3PXP', 'issuer=lauren', 'algorithm=SHA1', 'digits=6', 'counter=10')\n",
    "uri_hotp"
   ]
  },
  {
   "cell_type": "raw",
   "metadata": {},
   "source": [
    "Escanear con alguna aplicación de autenticación el siguiente código:"
   ]
  },
  {
   "cell_type": "code",
   "execution_count": 4,
   "metadata": {},
   "outputs": [
    {
     "data": {
      "image/png": "[encoded data removed]",
      "text/plain": [
       "<qrcode.image.pil.PilImage at 0x7bf7d0>"
      ]
     },
     "execution_count": 4,
     "metadata": {},
     "output_type": "execute_result"
    }
   ],
   "source": [
    "img = qrcode.make(uri_hotp)\n",
    "img"
   ]
  },
  {
   "cell_type": "markdown",
   "metadata": {},
   "source": [
    "**Implementación de HOTP y TOTP según pyotp**"
   ]
  },
  {
   "cell_type": "markdown",
   "metadata": {},
   "source": [
    "https://github.com/pyauth/pyotp/blob/master/src/pyotp/otp.py <br>"
   ]
  }
 ],
 "metadata": {
  "kernelspec": {
   "display_name": "Python 3",
   "language": "python",
   "name": "python3"
  },
  "language_info": {
   "codemirror_mode": {
    "name": "ipython",
    "version": 3
   },
   "file_extension": ".py",
   "mimetype": "text/x-python",
   "name": "python",
   "nbconvert_exporter": "python",
   "pygments_lexer": "ipython3",
   "version": "3.6.6"
  }
 },
 "nbformat": 4,
 "nbformat_minor": 2
}
